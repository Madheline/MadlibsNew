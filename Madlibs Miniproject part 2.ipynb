{
 "cells": [
  {
   "cell_type": "code",
   "execution_count": 15,
   "metadata": {},
   "outputs": [
    {
     "name": "stdin",
     "output_type": "stream",
     "text": [
      "Write a(n) Adjective: crazy\n",
      "Write a(n) color: red\n",
      "Write a(n) different color: blue\n",
      "Write a(n) verb: jump\n",
      "Write a(n) nationality: cuban\n",
      "Write a(n) month: october\n",
      "Write a(n) food: pizza\n",
      "Write a(n) music genre: pop\n",
      "Write a(n) body part: leg\n",
      "Write a(n) age: 19\n",
      "Write a(n) hour time: 6 pm\n",
      "Write a(n) TV series: Friends\n",
      "Write a(n) noun: table\n",
      "Write a(n) literary genre: romance\n",
      "Write a(n) name: Maria\n",
      "Write a(n) friend`s name: Pedro\n"
     ]
    }
   ],
   "source": [
    "Parts_Speech = [\"Adjective\", \"color\", \"different color\", \"verb\", \"nationality\", \"month\", \"food\", \"music genre\", \"body part\", \"age\", \"hour time\", \"TV series\", \"noun\", \"literary genre\", \"name\", \"friend`s name\"]\n",
    "Words = {}\n",
    "\n",
    "for Word in Parts_Speech:\n",
    "    Word_Imputed = input(f\"Write a(n) {Word}:\")\n",
    "    Words[Word] = Word_Imputed"
   ]
  },
  {
   "cell_type": "code",
   "execution_count": 17,
   "metadata": {},
   "outputs": [
    {
     "name": "stdout",
     "output_type": "stream",
     "text": [
      "The Grinch is a/an crazy red creature with blue eyes who does not like Christmas cheer.\n"
     ]
    }
   ],
   "source": [
    "print(f\"The Grinch is a/an {Words['Adjective']} {Words['color']} creature with {Words['different color']} eyes who does not like Christmas cheer.\")"
   ]
  },
  {
   "cell_type": "code",
   "execution_count": 18,
   "metadata": {},
   "outputs": [
    {
     "name": "stdout",
     "output_type": "stream",
     "text": [
      "Whenever I am feeling crazy about myself, I always try to jump.\n"
     ]
    }
   ],
   "source": [
    "print (f\"Whenever I am feeling {Words['Adjective']} about myself, I always try to {Words['verb']}.\") "
   ]
  },
  {
   "cell_type": "code",
   "execution_count": 19,
   "metadata": {},
   "outputs": [
    {
     "name": "stdout",
     "output_type": "stream",
     "text": [
      "Pizza was invented by a/an cuban chef named Maria.\n"
     ]
    }
   ],
   "source": [
    "print(f\"Pizza was invented by a/an {Words['nationality']} chef named {Words['name']}.\")"
   ]
  },
  {
   "cell_type": "code",
   "execution_count": 20,
   "metadata": {},
   "outputs": [
    {
     "name": "stdout",
     "output_type": "stream",
     "text": [
      "It was a crazy october day. I woke up to the smell of pizza while listening to pop music\n"
     ]
    }
   ],
   "source": [
    "print(f\"It was a {Words['Adjective']} {Words['month']} day. I woke up to the smell of {Words['food']} while listening to {Words['music genre']} music\") "
   ]
  },
  {
   "cell_type": "code",
   "execution_count": 21,
   "metadata": {},
   "outputs": [
    {
     "name": "stdout",
     "output_type": "stream",
     "text": [
      "Today I saw him/her again. When he/she look at me with those red eyes, it makes my leg go crazy\n"
     ]
    }
   ],
   "source": [
    "print(f\"Today I saw him/her again. When he/she look at me with those {Words['color']} eyes, it makes my {Words['body part']} go crazy\")"
   ]
  },
  {
   "cell_type": "code",
   "execution_count": 22,
   "metadata": {},
   "outputs": [
    {
     "name": "stdout",
     "output_type": "stream",
     "text": [
      "Hello! My name is Maria, I am 19 years old and I am cuban.\n"
     ]
    }
   ],
   "source": [
    "print(f\"Hello! My name is {Words['name']}, I am {Words['age']} years old and I am {Words['nationality']}.\")"
   ]
  },
  {
   "cell_type": "code",
   "execution_count": 23,
   "metadata": {},
   "outputs": [
    {
     "name": "stdout",
     "output_type": "stream",
     "text": [
      "Today my alarm went off at 6 pm as usual, but I couldn't wake up because I spent the whole night watching Friends\n"
     ]
    }
   ],
   "source": [
    "print(f\"Today my alarm went off at {Words['hour time']} as usual, but I couldn't wake up because I spent the whole night watching {Words['TV series']}\")"
   ]
  },
  {
   "cell_type": "code",
   "execution_count": 24,
   "metadata": {},
   "outputs": [
    {
     "name": "stdout",
     "output_type": "stream",
     "text": [
      "Our school cafeteria has really crazy food. Just thinking about it makes my stomach jump.\n"
     ]
    }
   ],
   "source": [
    "print(f\"Our school cafeteria has really {Words['Adjective']} food. Just thinking about it makes my stomach {Words['verb']}.\")"
   ]
  },
  {
   "cell_type": "code",
   "execution_count": 25,
   "metadata": {},
   "outputs": [
    {
     "name": "stdout",
     "output_type": "stream",
     "text": [
      "The spaghetti is crazy and tastes like table. \n"
     ]
    }
   ],
   "source": [
    "print(f\"The spaghetti is {Words['Adjective']} and tastes like {Words['noun']}. \")"
   ]
  },
  {
   "cell_type": "code",
   "execution_count": 26,
   "metadata": {},
   "outputs": [
    {
     "name": "stdout",
     "output_type": "stream",
     "text": [
      "My friend Pedro is very crazy. He/She loves listening to pop music and reading romance books.\n"
     ]
    }
   ],
   "source": [
    "print(f\"My friend {Words['friend`s name']} is very {Words['Adjective']}. He/She loves listening to {Words['music genre']} music and reading {Words['literary genre']} books.\")"
   ]
  },
  {
   "cell_type": "code",
   "execution_count": null,
   "metadata": {},
   "outputs": [],
   "source": []
  }
 ],
 "metadata": {
  "kernelspec": {
   "display_name": "Python 3",
   "language": "python",
   "name": "python3"
  },
  "language_info": {
   "codemirror_mode": {
    "name": "ipython",
    "version": 3
   },
   "file_extension": ".py",
   "mimetype": "text/x-python",
   "name": "python",
   "nbconvert_exporter": "python",
   "pygments_lexer": "ipython3",
   "version": "3.6.5"
  }
 },
 "nbformat": 4,
 "nbformat_minor": 2
}
